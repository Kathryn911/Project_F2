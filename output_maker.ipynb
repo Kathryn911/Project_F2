{
 "cells": [
  {
   "cell_type": "code",
   "id": "initial_id",
   "metadata": {
    "collapsed": true,
    "ExecuteTime": {
     "end_time": "2024-05-12T20:44:55.200286Z",
     "start_time": "2024-05-12T20:44:55.156978Z"
    }
   },
   "source": [
    "import requests\n",
    "from bs4 import BeautifulSoup\n",
    "import json"
   ],
   "outputs": [],
   "execution_count": 1
  },
  {
   "metadata": {
    "ExecuteTime": {
     "end_time": "2024-05-12T20:44:55.900444Z",
     "start_time": "2024-05-12T20:44:55.896883Z"
    }
   },
   "cell_type": "code",
   "source": [
    "urls_brouse = []\n",
    "urls = []\n",
    "\n",
    "for i in range(174, 182):\n",
    "    urls_brouse.append(f'https://www.fiaformula2.com/Calendar?seasonid={i}')\n",
    "\n",
    "print(f'{len(urls_brouse)} ссылок на страницы с гонками собрано')"
   ],
   "id": "648be6b37b4bb5ad",
   "outputs": [
    {
     "name": "stdout",
     "output_type": "stream",
     "text": [
      "8 ссылок на страницы с гонками собрано\n"
     ]
    }
   ],
   "execution_count": 2
  },
  {
   "metadata": {
    "ExecuteTime": {
     "end_time": "2024-05-12T20:45:05.169328Z",
     "start_time": "2024-05-12T20:44:56.509303Z"
    }
   },
   "cell_type": "code",
   "source": [
    "for url in urls_brouse:\n",
    "    response = requests.get(url)\n",
    "    soup = BeautifulSoup(response.text, 'html.parser')\n",
    "\n",
    "    links = soup.find_all('a', href = True)\n",
    "    for link in links:\n",
    "        if '/Results' in link['href']:\n",
    "            full_link = f'https://www.fiaformula2.com{link[\"href\"]}'\n",
    "            urls.append(full_link)\n",
    "\n",
    "print(f'{len(urls)} ссылок на гонки собранно')"
   ],
   "id": "a10b7a6615c03f97",
   "outputs": [
    {
     "name": "stdout",
     "output_type": "stream",
     "text": [
      "97 ссылок на гонки собранно\n"
     ]
    }
   ],
   "execution_count": 3
  },
  {
   "metadata": {
    "ExecuteTime": {
     "end_time": "2024-05-12T20:46:38.455859Z",
     "start_time": "2024-05-12T20:45:05.170624Z"
    }
   },
   "cell_type": "code",
   "source": [
    "with open('output.json', 'w') as file:\n",
    "    print(f\"Файл {'output.json'} был очищен.\")\n",
    "\n",
    "# Импортируем здесь, чтобы сразу подгружалось актуальная версия и не нужно было ждать 7 минут из прошлого блока\n",
    "from parser import Formula2Parser\n",
    "\n",
    "for url in urls:\n",
    "    parser = Formula2Parser(url)\n",
    "    try:\n",
    "        parser.run()\n",
    "    except Exception as e:\n",
    "        print(f\"Ошибка парсинга для {url} ошибка: {e}\")"
   ],
   "id": "8adef04cb08f9828",
   "outputs": [
    {
     "name": "stdout",
     "output_type": "stream",
     "text": [
      "Файл output.json был очищен.\n",
      "Ошибка парсинга для https://www.fiaformula2.com/Results?raceid=1003 ошибка: list index out of range\n",
      "Ошибка парсинга для https://www.fiaformula2.com/Results?raceid=1054 ошибка: list index out of range\n",
      "Ошибка парсинга для https://www.fiaformula2.com/Results?raceid=1076 ошибка: list index out of range\n"
     ]
    }
   ],
   "execution_count": 4
  },
  {
   "metadata": {},
   "cell_type": "code",
   "outputs": [],
   "execution_count": null,
   "source": "",
   "id": "ea956fc6e8227473"
  }
 ],
 "metadata": {
  "kernelspec": {
   "display_name": "Python 3",
   "language": "python",
   "name": "python3"
  },
  "language_info": {
   "codemirror_mode": {
    "name": "ipython",
    "version": 2
   },
   "file_extension": ".py",
   "mimetype": "text/x-python",
   "name": "python",
   "nbconvert_exporter": "python",
   "pygments_lexer": "ipython2",
   "version": "2.7.6"
  }
 },
 "nbformat": 4,
 "nbformat_minor": 5
}
